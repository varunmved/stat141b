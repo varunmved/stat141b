{
 "cells": [
  {
   "cell_type": "markdown",
   "metadata": {},
   "source": [
    "# Assignment 4\n",
    "\n",
    "In this assignment, you'll combine the assignment 3 data set with nutrition data from the [USDA Food Composition Databases](https://ndb.nal.usda.gov/ndb/search/list). The CSV file `fresh.csv` contains the fresh fruits and vegetables data you extracted in assignment 3.\n",
    "\n",
    "The USDA Food Composition Databases have a [documented](https://ndb.nal.usda.gov/ndb/doc/index) web API that returns data in JSON format . You need a key in order to use the API. Only 1000 requests are allowed per hour, so it would be a good idea to use [caching][requests_cache].\n",
    "\n",
    "[Sign up for an API key here](https://api.data.gov/signup/). The key will work with any Data.gov API. You may need the key again later in the quarter, so make sure you save it.\n",
    "\n",
    "These modules may be useful:\n",
    "\n",
    "* [requests](http://docs.python-requests.org/en/master/user/quickstart/)\n",
    "* [requests_cache][]\n",
    "* [urlparse](https://docs.python.org/2/library/urlparse.html)\n",
    "* [pandas](http://pandas.pydata.org/pandas-docs/stable/)\n",
    "\n",
    "[requests_cache]: https://pypi.python.org/pypi/requests-cache"
   ]
  },
  {
   "cell_type": "markdown",
   "metadata": {},
   "source": [
    "__Exercise 1.1.__ Read the [search request documentation](https://ndb.nal.usda.gov/ndb/doc/apilist/API-SEARCH.md), then write a function called `ndb_search()` that makes a search request. The function should accept the search term as an argument. The function should return the search result items as a list (for 0 items, return an empty list).\n",
    "\n",
    "Note that the search url is: `https://api.nal.usda.gov/ndb/search`\n",
    "\n",
    "As an example, a search for `\"quail eggs\"` should return this list:\n",
    "\n",
    "```python\n",
    "[{u'ds': u'BL',\n",
    "  u'group': u'Branded Food Products Database',\n",
    "  u'name': u'CHAOKOH, QUAIL EGG IN BRINE, UPC: 044738074186',\n",
    "  u'ndbno': u'45094707',\n",
    "  u'offset': 0},\n",
    " {u'ds': u'BL',\n",
    "  u'group': u'Branded Food Products Database',\n",
    "  u'name': u'L&W, QUAIL EGGS, UPC: 024072000256',\n",
    "  u'ndbno': u'45094890',\n",
    "  u'offset': 1},\n",
    " {u'ds': u'BL',\n",
    "  u'group': u'Branded Food Products Database',\n",
    "  u'name': u'BUDDHA, QUAIL EGGS IN BRINE, UPC: 761934535098',\n",
    "  u'ndbno': u'45099560',\n",
    "  u'offset': 2},\n",
    " {u'ds': u'BL',\n",
    "  u'group': u'Branded Food Products Database',\n",
    "  u'name': u'GRAN SABANA, QUAIL EGGS, UPC: 819140010103',\n",
    "  u'ndbno': u'45169279',\n",
    "  u'offset': 3},\n",
    " {u'ds': u'BL',\n",
    "  u'group': u'Branded Food Products Database',\n",
    "  u'name': u\"D'ARTAGNAN, QUAIL EGGS, UPC: 736622102630\",\n",
    "  u'ndbno': u'45178254',\n",
    "  u'offset': 4},\n",
    " {u'ds': u'SR',\n",
    "  u'group': u'Dairy and Egg Products',\n",
    "  u'name': u'Egg, quail, whole, fresh, raw',\n",
    "  u'ndbno': u'01140',\n",
    "  u'offset': 5}]\n",
    "```\n",
    "\n",
    "As usual, make sure you document and test your function."
   ]
  },
  {
   "cell_type": "code",
   "execution_count": 22,
   "metadata": {
    "collapsed": false
   },
   "outputs": [],
   "source": [
    "from urllib2 import Request, urlopen\n",
    "from urlparse import urlparse, urlunparse\n",
    "import requests, requests_cache\n",
    "import pandas as pd\n",
    "import json\n",
    "\n",
    "\n",
    "# my API key\n",
    "key = \"ULxnv6kWU0vTif6L3wHrB5MIkQKj0PrM3IfgfWbG\""
   ]
  },
  {
   "cell_type": "code",
   "execution_count": 5,
   "metadata": {
    "collapsed": true
   },
   "outputs": [],
   "source": [
    "requests_cache.install_cache('food_cache')"
   ]
  },
  {
   "cell_type": "code",
   "execution_count": 26,
   "metadata": {
    "collapsed": false
   },
   "outputs": [
    {
     "data": {
      "text/plain": [
       "<Response [200]>"
      ]
     },
     "execution_count": 26,
     "metadata": {},
     "output_type": "execute_result"
    }
   ],
   "source": [
    "# generate the query request to search for results\n",
    "\n",
    "# Notes: Will return a JSON object. Default sort = \"r\", aka relevance\n",
    "# EXAMPLE URL: https://api.nal.usda.gov/ndb/search/?api_key=ULxnv6kWU0vTif6L3wHrB5MIkQKj0PrM3IfgfWbG&format=json&q=mushroom\n",
    "def get_request(key, searchObject):\n",
    "    urlbase = \"https://api.nal.usda.gov/ndb/search/\"\n",
    "    params = {\"q\":searchObject}\n",
    "    params.update({\"format\":\"json\"})\n",
    "    params.update({\"api_key\":key})\n",
    "    #print params\n",
    "    return requests.get(urlbase,params=params)\n",
    "    #return urlbase + \"/?\" + \"&\".join(\"{}={}\".format(a,b) for a,b in params.items())\n",
    "\n",
    "get_request(key, \"mushroom\")"
   ]
  },
  {
   "cell_type": "code",
   "execution_count": null,
   "metadata": {
    "collapsed": true
   },
   "outputs": [],
   "source": [
    "def ndb_search(searchObject):\n",
    "    searchList = []\n",
    "    request = get_request(key, searchObject)\n",
    "    searchList = request.json()\n",
    "    return searchList[u'list']\n",
    "\n",
    "ndb_search(\"mushroom\")"
   ]
  },
  {
   "cell_type": "markdown",
   "metadata": {},
   "source": [
    "__Exercise 1.2.__ Use your search function to get NDB numbers for the foods in the `fresh.csv` file. It's okay if you don't get an NDB number for every food, but try to come up with a strategy that gets most of them. Discuss your strategy in a short paragraph.\n",
    "\n",
    "Hints:\n",
    "\n",
    "* The foods are all raw and unbranded.\n",
    "* You can test search terms with the [online search page](https://ndb.nal.usda.gov/ndb/search/list).\n",
    "* You can convert the output of `ndb_search()` to a data frame with `pd.DataFrame()`.\n",
    "* The string methods for [Python](https://docs.python.org/2/library/stdtypes.html#string-methods) and [Pandas](http://pandas.pydata.org/pandas-docs/stable/text.html#method-summary) are useful here. It's okay if you use _simple_ regular expressions in the Pandas methods, although this exercise can be solved without them.\n",
    "* You can merge data frames that have a column in common with `pd.merge()`."
   ]
  },
  {
   "cell_type": "markdown",
   "metadata": {},
   "source": [
    "__Exercise 1.3.__ Read the [food reports V2 documentation](https://ndb.nal.usda.gov/ndb/doc/apilist/API-FOOD-REPORTV2.md), then write a function called `ndb_report()` that requests a _basic_ food report. The function should accept the NDB number as an argument and return the list of nutrients for the food.\n",
    "\n",
    "Note that the report url is: `https://api.nal.usda.gov/ndb/V2/reports`\n",
    "\n",
    "For example, for `\"09279\"` (raw plums) the first element of the returned list should be:\n",
    "\n",
    "```python\n",
    "{u'group': u'Proximates',\n",
    " u'measures': [{u'eqv': 165.0,\n",
    "   u'eunit': u'g',\n",
    "   u'label': u'cup, sliced',\n",
    "   u'qty': 1.0,\n",
    "   u'value': u'143.93'},\n",
    "  {u'eqv': 66.0,\n",
    "   u'eunit': u'g',\n",
    "   u'label': u'fruit (2-1/8\" dia)',\n",
    "   u'qty': 1.0,\n",
    "   u'value': u'57.57'},\n",
    "  {u'eqv': 151.0,\n",
    "   u'eunit': u'g',\n",
    "   u'label': u'NLEA serving',\n",
    "   u'qty': 1.0,\n",
    "   u'value': u'131.72'}],\n",
    " u'name': u'Water',\n",
    " u'nutrient_id': u'255',\n",
    " u'unit': u'g',\n",
    " u'value': u'87.23'}\n",
    "```\n",
    "\n",
    "Be sure to document and test your function."
   ]
  },
  {
   "cell_type": "markdown",
   "metadata": {},
   "source": [
    "__Exercise 1.4.__ Which foods provide the best combination of price, yield, and nutrition? You can use kilocalories as a measure of \"nutrition\" here, but more a detailed analysis is better. Use plots to support your analysis."
   ]
  }
 ],
 "metadata": {
  "anaconda-cloud": {},
  "kernelspec": {
   "display_name": "Python 3",
   "language": "python",
   "name": "python3"
  },
  "language_info": {
   "codemirror_mode": {
    "name": "ipython",
    "version": 3
   },
   "file_extension": ".py",
   "mimetype": "text/x-python",
   "name": "python",
   "nbconvert_exporter": "python",
   "pygments_lexer": "ipython3",
   "version": "3.6.0"
  }
 },
 "nbformat": 4,
 "nbformat_minor": 2
}
