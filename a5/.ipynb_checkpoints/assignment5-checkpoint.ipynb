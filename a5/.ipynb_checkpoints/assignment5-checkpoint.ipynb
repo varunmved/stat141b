{
 "cells": [
  {
   "cell_type": "markdown",
   "metadata": {},
   "source": [
    "# Assignment 5\n",
    "\n",
    "In this assignment, you'll scrape text from [The California Aggie](https://theaggie.org/) and then analyze the text.\n",
    "\n",
    "The Aggie is organized by category into article lists. For example, there's a [Campus News](https://theaggie.org/campus/) list, [Arts & Culture](https://theaggie.org/arts/) list, and [Sports](https://theaggie.org/sports/) list. Notice that each list has multiple pages, with a maximum of 15 articles per page.\n",
    "\n",
    "The goal of exercises 1.1 - 1.3 is to scrape articles from the Aggie for analysis in exercise 1.4."
   ]
  },
  {
   "cell_type": "markdown",
   "metadata": {},
   "source": [
    "__Exercise 1.1.__ Write a function that extracts all of the links to articles in an Aggie article list. The function should:\n",
    "\n",
    "* Have a parameter `url` for the URL of the article list.\n",
    "\n",
    "* Have a parameter `page` for the number of pages to fetch links from. The default should be `1`.\n",
    "\n",
    "* Return a list of aricle URLs (each URL should be a string).\n",
    "\n",
    "Test your function on 2-3 different categories to make sure it works.\n",
    "\n",
    "Hints:\n",
    "\n",
    "* Be polite to The Aggie and save time by setting up [requests_cache](https://pypi.python.org/pypi/requests-cache) before you write your function.\n",
    "\n",
    "* Start by getting your function to work for just 1 page. Once that works, have your function call itself to get additional pages.\n",
    "\n",
    "* You can use [lxml.html](http://lxml.de/lxmlhtml.html) or [BeautifulSoup](https://www.crummy.com/software/BeautifulSoup/bs4/doc/) to scrape HTML. Choose one and use it throughout the entire assignment."
   ]
  },
  {
   "cell_type": "markdown",
   "metadata": {},
   "source": [
    "__Exercise 1.2.__ Write a function that extracts the title, text, and author of an Aggie article. The function should:\n",
    "\n",
    "* Have a parameter `url` for the URL of the article.\n",
    "\n",
    "* For the author, extract the \"Written By\" line that appears at the end of most articles. You don't have to extract the author's name from this line.\n",
    "\n",
    "* Return a dictionary with keys \"url\", \"title\", \"text\", and \"author\". The values for these should be the article url, title, text, and author, respectively.\n",
    "\n",
    "For example, for [this article](https://theaggie.org/2017/02/14/project-toto-aims-to-address-questions-regarding-city-finances/) your function should return something similar to this:\n",
    "```\n",
    "{\n",
    "    'author': u'Written By: Bianca Antunez \\xa0\\u2014\\xa0city@theaggie.org',\n",
    "    'text': u'Davis residents create financial model to make city\\'s financial state more transparent To increase transparency between the city\\'s financial situation and the community, three residents created a model called Project Toto which aims to improve how the city communicates its finances in an easily accessible design. Jeff Miller and Matt Williams, who are members of Davis\\' Finance and Budget Commission, joined together with Davis entrepreneur Bob Fung to create the model plan to bring the project to the Finance and Budget Commission in February, according to Kelly Stachowicz, assistant city manager. \"City staff appreciate the efforts that have gone into this, and the interest in trying to look at the city\\'s potential financial position over the long term,\" Stachowicz said in an email interview. \"We all have a shared goal to plan for a sound fiscal future with few surprises. We believe the Project Toto effort will mesh well with our other efforts as we build the budget for the next fiscal year and beyond.\" Project Toto complements the city\\'s effort to amplify the transparency of city decisions to community members. The aim is to increase the understanding about the city\\'s financial situation and make the information more accessible and easier to understand. The project is mostly a tool for public education, but can also make predictions about potential decisions regarding the city\\'s financial future. Once completed, the program will allow residents to manipulate variables to see their eventual consequences, such as tax increases or extensions and proposed developments \"This really isn\\'t a budget, it is a forecast to see the intervention of these decisions,\" Williams said in an interview with The Davis Enterprise. \"What happens if we extend the sales tax? What does it do given the other numbers that are in?\" Project Toto enables users, whether it be a curious Davis resident, a concerned community member or a city leader, with the ability to project city finances with differing variables. The online program consists of the 400-page city budget for the 2016-2017 fiscal year, the previous budget, staff reports and consultant analyses. All of the documents are cited and accessible to the public within Project Toto. \"It\\'s a model that very easily lends itself to visual representation,\" Mayor Robb Davis said. \"You can see the impacts of decisions the council makes on the fiscal health of the city.\" Complementary to this program, there is also a more advanced version of the model with more in-depth analyses of the city\\'s finances. However, for an easy-to-understand, simplistic overview, Project Toto should be enough to help residents comprehend Davis finances. There is still more to do on the project, but its creators are hard at work trying to finalize it before the 2017-2018 fiscal year budget. \"It\\'s something I have been very much supportive of,\" Davis said. \"Transparency is not just something that I have been supportive of but something we have stated as a city council objective [ ] this fits very well with our attempt to inform the public of our challenges with our fiscal situation.\" ',\n",
    "    'title': 'Project Toto aims to address questions regarding city finances',\n",
    "    'url': 'https://theaggie.org/2017/02/14/project-toto-aims-to-address-questions-regarding-city-finances/'\n",
    "}\n",
    "```\n",
    "\n",
    "Hints:\n",
    "\n",
    "* The author line is always the last line of the last paragraph.\n",
    "\n",
    "*   Python 2 displays some Unicode characters as `\\uXXXX`. For instance, `\\u201c` is a left-facing quotation mark.\n",
    "    You can convert most of these to ASCII characters with the method call (on a string)\n",
    "    ```\n",
    "    .translate({ 0x2018:0x27, 0x2019:0x27, 0x201C:0x22, 0x201D:0x22, 0x2026:0x20 })\n",
    "    ```\n",
    "    If you're curious about these characters, you can look them up on [this page](http://unicode.org/cldr/utility/character.jsp), or read \n",
    "    more about [what Unicode is](http://unicode.org/standard/WhatIsUnicode.html)."
   ]
  },
  {
   "cell_type": "markdown",
   "metadata": {},
   "source": [
    "__Exercise 1.3.__ Use your functions from exercises 1.1 and 1.2 to get a data frame of 60 [Campus News](https://theaggie.org/campus/) articles and a data frame of 60 [City News](https://theaggie.org/city/) articles. Add a column to each that indicates the category, then combine them into one big data frame.\n",
    "\n",
    "The \"text\" column of this data frame will be your corpus for natural language processing in exercise 1.4."
   ]
  },
  {
   "cell_type": "markdown",
   "metadata": {},
   "source": [
    "__Exercise 1.4.__ Use the Aggie corpus to answer the following questions. Use plots to support your analysis.\n",
    "\n",
    "* What topics does the Aggie cover the most? Do city articles typically cover different topics than campus articles?\n",
    "\n",
    "* What are the titles of the top 3 pairs of most similar articles? Examine each pair of articles. What words do they have in common?\n",
    "\n",
    "* Do you think this corpus is representative of the Aggie? Why or why not? What kinds of inference can this corpus support? Explain your reasoning.\n",
    "\n",
    "Hints:\n",
    "\n",
    "*   The [nltk book](http://www.nltk.org/book/) and [scikit-learn documentation](http://scikit-learn.org/stable/modules/feature_extraction.html#text-feature-extraction) may be helpful here.\n",
    "\n",
    "*   You can determine whether city articles are \"near\" campus articles from the similarity matrix or with k-nearest neighbors.\n",
    "\n",
    "*   If you want, you can use the [wordcloud](http://amueller.github.io/word_cloud/) package to plot a word cloud. To install the package, run\n",
    "    ```\n",
    "    conda install -c https://conda.anaconda.org/amueller wordcloud\n",
    "    ```\n",
    "    in a terminal. Word clouds look nice and are easy to read, but are less precise than bar plots."
   ]
  }
 ],
 "metadata": {
  "kernelspec": {
   "display_name": "Python 3",
   "language": "python",
   "name": "python3"
  },
  "language_info": {
   "codemirror_mode": {
    "name": "ipython",
    "version": 3
   },
   "file_extension": ".py",
   "mimetype": "text/x-python",
   "name": "python",
   "nbconvert_exporter": "python",
   "pygments_lexer": "ipython3",
   "version": "3.6.0"
  }
 },
 "nbformat": 4,
 "nbformat_minor": 2
}
